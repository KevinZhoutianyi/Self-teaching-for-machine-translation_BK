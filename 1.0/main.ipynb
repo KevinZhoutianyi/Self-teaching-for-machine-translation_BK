{
 "cells": [
  {
   "cell_type": "markdown",
   "metadata": {},
   "source": [
    "reload each module run each cell"
   ]
  },
  {
   "cell_type": "code",
   "execution_count": null,
   "metadata": {},
   "outputs": [],
   "source": [
    "%load_ext autoreload\n",
    "%autoreload 2"
   ]
  },
  {
   "cell_type": "code",
   "execution_count": null,
   "metadata": {},
   "outputs": [],
   "source": [
    "import os\n",
    "os.getcwd() \n",
    "os.environ['CUDA_LAUNCH_BLOCKING'] = '1'\n",
    "import warnings\n",
    "warnings.filterwarnings(\"ignore\")"
   ]
  },
  {
   "cell_type": "code",
   "execution_count": 3,
   "metadata": {},
   "outputs": [],
   "source": [
    "from T5 import *\n",
    "from datasets import load_dataset\n",
    "from transformers import T5Tokenizer\n",
    "from MT_hyperparams import *\n",
    "import torch.backends.cudnn as cudnn\n",
    "from utils import *\n",
    "from attention_params import *\n",
    "from torch.utils.data import TensorDataset, DataLoader, RandomSampler, SequentialSampler, SubsetRandomSampler\n",
    "from torch.autograd import Variable\n",
    "from losses import *\n",
    "from architect import *"
   ]
  },
  {
   "cell_type": "code",
   "execution_count": 4,
   "metadata": {},
   "outputs": [
    {
     "name": "stderr",
     "output_type": "stream",
     "text": [
      "Reusing dataset opus_euconst (C:\\Users\\kevin\\.cache\\huggingface\\datasets\\opus_euconst\\en-fr\\1.0.0\\d1e611a011f28fdda67a97024820e0a3813b4e4decca194d9a20b3207a39b908)\n",
      "100%|██████████| 1/1 [00:00<00:00, 501.41it/s]"
     ]
    },
    {
     "name": "stdout",
     "output_type": "stream",
     "text": [
      "DatasetDict({\n",
      "    train: Dataset({\n",
      "        features: ['translation'],\n",
      "        num_rows: 10104\n",
      "    })\n",
      "})\n",
      "{'translation': {'en': 'Celex Test  ', 'fr': 'Celex Test  '}}\n"
     ]
    },
    {
     "name": "stderr",
     "output_type": "stream",
     "text": [
      "\n"
     ]
    }
   ],
   "source": [
    "dataset = load_dataset('opus_euconst','en-fr')\n",
    "print(dataset)\n",
    "print(dataset['train'][0])"
   ]
  },
  {
   "cell_type": "code",
   "execution_count": 5,
   "metadata": {},
   "outputs": [],
   "source": [
    "# Setting the seeds\n",
    "np.random.seed(seed_)\n",
    "torch.cuda.set_device(0)\n",
    "cudnn.benchmark = True\n",
    "torch.manual_seed(seed_)\n",
    "cudnn.enabled=True\n",
    "torch.cuda.manual_seed(seed_)"
   ]
  },
  {
   "cell_type": "code",
   "execution_count": 6,
   "metadata": {},
   "outputs": [
    {
     "name": "stderr",
     "output_type": "stream",
     "text": [
      "Loading cached shuffled indices for dataset at C:\\Users\\kevin\\.cache\\huggingface\\datasets\\opus_euconst\\en-fr\\1.0.0\\d1e611a011f28fdda67a97024820e0a3813b4e4decca194d9a20b3207a39b908\\cache-ed40eb159454adf9.arrow\n"
     ]
    }
   ],
   "source": [
    "# Load the tokenizer.\n",
    "import random\n",
    "tokenizer = T5Tokenizer.from_pretrained(\"t5-small\")\n",
    "\n",
    "criterion = torch.nn.CrossEntropyLoss(ignore_index = tokenizer.pad_token_id, reduction='none')\n",
    "L = len(dataset['train'])\n",
    "L_t = L//4*3\n",
    "L_v = L//8\n",
    "L_test = L//8\n",
    "dataset = dataset.shuffle(seed=seed_)\n",
    "\n",
    "\n",
    "\n",
    "train = dataset['train']['translation'][:L_t]\n",
    "valid = dataset['train']['translation'][L_t:L_t+L_v]\n",
    "test = dataset['train']['translation'][-L_test:]"
   ]
  },
  {
   "cell_type": "code",
   "execution_count": 7,
   "metadata": {},
   "outputs": [],
   "source": [
    "def preprocess(dat):\n",
    "    for t in dat:\n",
    "        t['en'] = 'translate English to French:' + t['en']\n",
    "preprocess(train)\n",
    "preprocess(valid)\n",
    "preprocess(test)"
   ]
  },
  {
   "cell_type": "code",
   "execution_count": 8,
   "metadata": {},
   "outputs": [
    {
     "name": "stdout",
     "output_type": "stream",
     "text": [
      "train len: 7578\n",
      "valid len: 1263\n",
      "test len: 1263\n",
      "{'en': 'translate English to French:(a)  ', 'fr': 'a)  '}\n"
     ]
    },
    {
     "data": {
      "text/plain": [
       "list"
      ]
     },
     "execution_count": 8,
     "metadata": {},
     "output_type": "execute_result"
    }
   ],
   "source": [
    "print(\"train len:\",len(train))\n",
    "print(\"valid len:\",len(valid))\n",
    "print(\"test len:\" ,len(test))\n",
    "print(train[0])\n",
    "type(train)"
   ]
  },
  {
   "cell_type": "code",
   "execution_count": 9,
   "metadata": {},
   "outputs": [
    {
     "name": "stdout",
     "output_type": "stream",
     "text": [
      "tensor([   0,    1,    2,  ..., 3786, 3787, 3788])\n",
      "Input shape: \n",
      "torch.Size([3789, 232]) torch.Size([3789, 232])\n",
      "Target shape: \n",
      "torch.Size([3789, 100]) torch.Size([3789, 100])\n",
      "Input shape: \n",
      "torch.Size([3789, 178]) torch.Size([3789, 178])\n"
     ]
    }
   ],
   "source": [
    "train_data = get_train_Dataset(train, tokenizer)# Create the DataLoader for our training set.\n",
    "train_dataloader = DataLoader(train_data, sampler=RandomSampler(train_data), \n",
    "                        batch_size=2, pin_memory=True, num_workers=0)"
   ]
  },
  {
   "cell_type": "code",
   "execution_count": 10,
   "metadata": {},
   "outputs": [],
   "source": [
    "# load the attention parameters\n",
    "A = attention_params(len(train))\n",
    "# attention_weights.load_state_dict(torch.load(os.path.join(args.save, 'A.pt')))\n",
    "A = A.cuda()"
   ]
  },
  {
   "cell_type": "code",
   "execution_count": 11,
   "metadata": {},
   "outputs": [
    {
     "name": "stdout",
     "output_type": "stream",
     "text": [
      "Input shape: \n",
      "torch.Size([1263, 407]) torch.Size([1263, 407])\n",
      "Target shape: \n",
      "torch.Size([1263, 100]) torch.Size([1263, 100])\n"
     ]
    }
   ],
   "source": [
    "valid_data = get_aux_dataset(valid, tokenizer)# Create the DataLoader for our training set.\n",
    "valid_dataloader = DataLoader(valid_data, sampler=RandomSampler(valid_data), \n",
    "                        batch_size=2, pin_memory=True, num_workers=0)"
   ]
  },
  {
   "cell_type": "code",
   "execution_count": 12,
   "metadata": {},
   "outputs": [
    {
     "name": "stdout",
     "output_type": "stream",
     "text": [
      "Input shape: \n",
      "torch.Size([1263, 136]) torch.Size([1263, 136])\n",
      "Target shape: \n",
      "torch.Size([1263, 100]) torch.Size([1263, 100])\n"
     ]
    }
   ],
   "source": [
    "test_data = get_aux_dataset(test, tokenizer)# Create the DataLoader for our training set.\n",
    "test_dataloader = DataLoader(test_data, \n",
    "                        batch_size=5, pin_memory=True, num_workers=0)#, sampler=RandomSampler(test_data)"
   ]
  },
  {
   "cell_type": "code",
   "execution_count": 13,
   "metadata": {},
   "outputs": [],
   "source": [
    "\n",
    "from MT_hyperparams import *"
   ]
  },
  {
   "cell_type": "code",
   "execution_count": 14,
   "metadata": {},
   "outputs": [],
   "source": [
    "model_w = T5(criterion=criterion, tokenizer= tokenizer)\n",
    "# model.load_state_dict(torch.load(os.path.join(args.save, 'gpt_weights.pt')))\n",
    "model_w = model_w.cuda()\n",
    "w_optimizer = torch.optim.SGD(model_w.parameters(),lr,momentum=momentum,weight_decay=decay)\n",
    "scheduler_w  = torch.optim.lr_scheduler.CosineAnnealingLR(w_optimizer, float(epochs), eta_min=learning_rate_min)\n",
    "\n",
    "\n"
   ]
  },
  {
   "cell_type": "code",
   "execution_count": 15,
   "metadata": {},
   "outputs": [],
   "source": [
    "model_v = T5(criterion=criterion, tokenizer= tokenizer)\n",
    "# model.load_state_dict(torch.load(os.path.join(args.save, 'gpt_weights.pt')))\n",
    "model_v = model_v.cuda()\n",
    "v_optimizer = torch.optim.SGD(model_v.parameters(),lr,momentum=momentum,weight_decay=decay)\n",
    "scheduler_v  = torch.optim.lr_scheduler.CosineAnnealingLR(v_optimizer, float(epochs), eta_min=learning_rate_min)"
   ]
  },
  {
   "cell_type": "code",
   "execution_count": 16,
   "metadata": {},
   "outputs": [
    {
     "data": {
      "text/plain": [
       "['<pad> mon nom est kevin</s> <pad> <pad> <pad>',\n",
       " \"<pad> c'est mon nom 321312</s>\"]"
      ]
     },
     "execution_count": 16,
     "metadata": {},
     "output_type": "execute_result"
    }
   ],
   "source": [
    "x = ['my name is kevin','it is my name 321312']\n",
    "for index,i in enumerate(x) :\n",
    "    x[index] = 'translate English to French:' + x[index]\n",
    "y= tokenize(x, tokenizer, max_length = summary_length)\n",
    "input = y[0].cuda()\n",
    "output  = model_v.generate(input)\n",
    "tokenizer.batch_decode(output)"
   ]
  },
  {
   "cell_type": "code",
   "execution_count": 17,
   "metadata": {},
   "outputs": [],
   "source": [
    "def my_test(test_dataloader,model):\n",
    "    for step, batch in enumerate(test_dataloader):\n",
    "        x = Variable(batch[0], requires_grad=False).cuda()\n",
    "        x_attn = Variable(batch[1], requires_grad=False).cuda()\n",
    "        y = Variable(batch[2], requires_grad=False).cuda()\n",
    "        y_attn = Variable(batch[3], requires_grad=False).cuda()\n",
    "\n",
    "        ls = my_loss(x,x_attn,y,y_attn,model)\n",
    "        print('\\n test loss :',ls)\n",
    "        break\n",
    "        "
   ]
  },
  {
   "cell_type": "code",
   "execution_count": 18,
   "metadata": {},
   "outputs": [],
   "source": [
    "def my_train(epoch, train_dataloader, valid_dataloader, w_model, v_model, architect, A, w_optimizer, v_optimizer, lr_w, lr_v, ):\n",
    "    for step, batch in enumerate(train_dataloader):\n",
    "        # for index,t in enumerate(batch):\n",
    "        #     print(\"Training data \",index,\"'s shape \",t.shape,end=' ')\n",
    "        batch_loss_w, batch_loss_v,  batch_count = 0, 0, 0\n",
    "        input_w = Variable(batch[0], requires_grad=False).cuda()\n",
    "        input_w_attn = Variable(batch[1], requires_grad=False).cuda()\n",
    "        output_w = Variable(batch[2], requires_grad=False).cuda()\n",
    "        output_w_attn = Variable(batch[3], requires_grad=False).cuda()        \n",
    "        input_v = Variable(batch[4], requires_grad=False).cuda()\n",
    "        input_v_attn = Variable(batch[5], requires_grad=False).cuda()        \n",
    "        # attention indices for CTG loss\n",
    "        attn_idx = Variable(batch[6], requires_grad=False).cuda()\n",
    "        \n",
    "        #####################################################################################\n",
    "        # valid \n",
    "\n",
    "        # valid input_valid, target_valid, valid_attn_classifier\n",
    "        \n",
    "        # get a random minibatch from the search queue with replacement\n",
    "        valid_batch = next(iter(valid_dataloader))#???\n",
    "\n",
    "        valid_input_v      = Variable(valid_batch[0], requires_grad=False).cuda()\n",
    "        valid_input_v_attn = Variable(valid_batch[1], requires_grad=False).cuda()\n",
    "        valid_out_v      = Variable(valid_batch[2], requires_grad=False).cuda()\n",
    "        valid_out_v_attn = Variable(valid_batch[3], requires_grad=False).cuda()\n",
    "\n",
    "\n",
    "        if begin_epoch <= epoch <= stop_epoch:\n",
    "            \n",
    "            architect.step(input_w,  output_w,input_w_attn, output_w_attn, w_optimizer, input_v, input_v_attn,valid_input_v, valid_input_v_attn, valid_out_v, \n",
    "                valid_out_v_attn, v_optimizer, attn_idx, lr_w, lr_v)\n",
    "        # end the framework training and just train on the classifier task after the stop epoch\n",
    "        if epoch <=stop_epoch:\n",
    "            ######################################################################\n",
    "            # Update the W model\n",
    "            w_optimizer.zero_grad()\n",
    "            \n",
    "\n",
    "            # W\n",
    "            loss_w = CTG_loss(input_w, input_w_attn, output_w, output_w_attn, attn_idx, A, w_model)\n",
    "            # store the batch loss\n",
    "            batch_loss_w += loss_w.item()\n",
    "\n",
    "            loss_w.backward()\n",
    "            \n",
    "            nn.utils.clip_grad_norm(w_model.parameters(), grad_clip)\n",
    "            \n",
    "            w_optimizer.step()\n",
    "            # print(w_optimizer)\n",
    "            \n",
    "            ######################################################################\n",
    "            # Update the V model\n",
    "            v_optimizer.zero_grad()\n",
    "        \n",
    "            # the training loss\n",
    "            # logits, loss_tr = w_model.loss(article_DS, article_DS_attn, summary_DS, summary_DS_attn)\n",
    "\n",
    "            # Loss on augmented dataset\n",
    "            \n",
    "            loss_aug = calc_loss_aug(input_v, input_v_attn, w_model, v_model)\n",
    "        \n",
    "            v_loss =  (loss_aug)\n",
    "            batch_loss_v += v_loss.item()\n",
    "            \n",
    "            v_loss.backward()\n",
    "            \n",
    "            nn.utils.clip_grad_norm(v_model.parameters(), grad_clip)\n",
    "            \n",
    "            # update the classifier model\n",
    "            v_optimizer.step()     \n",
    "            \n",
    "            my_test(test_dataloader,w_model) \n",
    "            my_test(test_dataloader,v_model)      \n"
   ]
  },
  {
   "cell_type": "code",
   "execution_count": 19,
   "metadata": {},
   "outputs": [],
   "source": [
    "\n",
    "architect = Architect(model_w, model_v,  A)"
   ]
  },
  {
   "cell_type": "code",
   "execution_count": 20,
   "metadata": {},
   "outputs": [
    {
     "name": "stdout",
     "output_type": "stream",
     "text": [
      "aug_loss\n",
      "input_ids.shape torch.Size([2, 178])\n",
      "output_ids.shape torch.Size([2, 5])\n",
      "input tensor([[13959,  1566,    12,  2379,    10, 17608,   994,    27,     1,     0,\n",
      "             0,     0,     0,     0,     0,     0,     0,     0,     0,     0,\n",
      "             0,     0,     0,     0,     0,     0,     0,     0,     0,     0,\n",
      "             0,     0,     0,     0,     0,     0,     0,     0,     0,     0,\n",
      "             0,     0,     0,     0,     0,     0,     0,     0,     0,     0,\n",
      "             0,     0,     0,     0,     0,     0,     0,     0,     0,     0,\n",
      "             0,     0,     0,     0,     0,     0,     0,     0,     0,     0,\n",
      "             0,     0,     0,     0,     0,     0,     0,     0,     0,     0,\n",
      "             0,     0,     0,     0,     0,     0,     0,     0,     0,     0,\n",
      "             0,     0,     0,     0,     0,     0,     0,     0,     0,     0,\n",
      "             0,     0,     0,     0,     0,     0,     0,     0,     0,     0,\n",
      "             0,     0,     0,     0,     0,     0,     0,     0,     0,     0,\n",
      "             0,     0,     0,     0,     0,     0,     0,     0,     0,     0,\n",
      "             0,     0,     0,     0,     0,     0,     0,     0,     0,     0,\n",
      "             0,     0,     0,     0,     0,     0,     0,     0,     0,     0,\n",
      "             0,     0,     0,     0,     0,     0,     0,     0,     0,     0,\n",
      "             0,     0,     0,     0,     0,     0,     0,     0,     0,     0,\n",
      "             0,     0,     0,     0,     0,     0,     0,     0],\n",
      "        [13959,  1566,    12,  2379,    10, 10647,  5483,     3, 10647,     1,\n",
      "             0,     0,     0,     0,     0,     0,     0,     0,     0,     0,\n",
      "             0,     0,     0,     0,     0,     0,     0,     0,     0,     0,\n",
      "             0,     0,     0,     0,     0,     0,     0,     0,     0,     0,\n",
      "             0,     0,     0,     0,     0,     0,     0,     0,     0,     0,\n",
      "             0,     0,     0,     0,     0,     0,     0,     0,     0,     0,\n",
      "             0,     0,     0,     0,     0,     0,     0,     0,     0,     0,\n",
      "             0,     0,     0,     0,     0,     0,     0,     0,     0,     0,\n",
      "             0,     0,     0,     0,     0,     0,     0,     0,     0,     0,\n",
      "             0,     0,     0,     0,     0,     0,     0,     0,     0,     0,\n",
      "             0,     0,     0,     0,     0,     0,     0,     0,     0,     0,\n",
      "             0,     0,     0,     0,     0,     0,     0,     0,     0,     0,\n",
      "             0,     0,     0,     0,     0,     0,     0,     0,     0,     0,\n",
      "             0,     0,     0,     0,     0,     0,     0,     0,     0,     0,\n",
      "             0,     0,     0,     0,     0,     0,     0,     0,     0,     0,\n",
      "             0,     0,     0,     0,     0,     0,     0,     0,     0,     0,\n",
      "             0,     0,     0,     0,     0,     0,     0,     0,     0,     0,\n",
      "             0,     0,     0,     0,     0,     0,     0,     0]],\n",
      "       device='cuda:0')\n",
      "output_ids tensor([[    0,  6206,  6667,    27,     1],\n",
      "        [    0,     3, 10647, 22366,     1]], device='cuda:0')\n",
      "w_logits tensor([[[-23.5407,  -9.3355, -14.7455,  ..., -44.4687, -44.3238, -44.3532],\n",
      "         [-22.5455,  -8.9250, -13.8213,  ..., -45.9583, -45.9297, -45.9494],\n",
      "         [-57.8466, -30.0137, -29.7813,  ..., -80.6626, -80.3832, -80.6313],\n",
      "         [-41.6858, -12.2115, -18.2580,  ..., -61.2350, -61.3450, -61.3848],\n",
      "         [-38.8273,  -5.6938, -16.1708,  ..., -54.8427, -54.8559, -54.9251]],\n",
      "\n",
      "        [[-16.7548,  -8.9367, -11.9055,  ..., -38.9322, -39.0744, -39.0587],\n",
      "         [-15.0374,  -8.9924, -12.5301,  ..., -37.8742, -37.9056, -37.9394],\n",
      "         [-27.8385, -11.9576,  -4.8336,  ..., -37.9242, -37.9431, -37.9432],\n",
      "         [-23.5791,  -3.9690, -10.1983,  ..., -38.5490, -38.6515, -38.7187],\n",
      "         [-24.6838,  -5.0111, -11.6213,  ..., -42.9882, -43.1640, -43.0220]]],\n",
      "       device='cuda:0', grad_fn=<UnsafeViewBackward0>)\n",
      "w_soft_idx tensor([[[ -0.9485],\n",
      "         [ -1.2024],\n",
      "         [-10.3373],\n",
      "         [ -4.4538],\n",
      "         [ -5.6938]],\n",
      "\n",
      "        [[ -3.0938],\n",
      "         [ -2.2040],\n",
      "         [  0.0446],\n",
      "         [ -3.5520],\n",
      "         [ -2.0352]]], device='cuda:0', grad_fn=<MaxBackward0>)\n",
      "aug_loss\n",
      "input_ids.shape torch.Size([2, 178])\n",
      "output_ids.shape torch.Size([2, 7])\n",
      "input tensor([[13959,  1566,    12,  2379,    10, 17608,   994,    27,     1,     0,\n",
      "             0,     0,     0,     0,     0,     0,     0,     0,     0,     0,\n",
      "             0,     0,     0,     0,     0,     0,     0,     0,     0,     0,\n",
      "             0,     0,     0,     0,     0,     0,     0,     0,     0,     0,\n",
      "             0,     0,     0,     0,     0,     0,     0,     0,     0,     0,\n",
      "             0,     0,     0,     0,     0,     0,     0,     0,     0,     0,\n",
      "             0,     0,     0,     0,     0,     0,     0,     0,     0,     0,\n",
      "             0,     0,     0,     0,     0,     0,     0,     0,     0,     0,\n",
      "             0,     0,     0,     0,     0,     0,     0,     0,     0,     0,\n",
      "             0,     0,     0,     0,     0,     0,     0,     0,     0,     0,\n",
      "             0,     0,     0,     0,     0,     0,     0,     0,     0,     0,\n",
      "             0,     0,     0,     0,     0,     0,     0,     0,     0,     0,\n",
      "             0,     0,     0,     0,     0,     0,     0,     0,     0,     0,\n",
      "             0,     0,     0,     0,     0,     0,     0,     0,     0,     0,\n",
      "             0,     0,     0,     0,     0,     0,     0,     0,     0,     0,\n",
      "             0,     0,     0,     0,     0,     0,     0,     0,     0,     0,\n",
      "             0,     0,     0,     0,     0,     0,     0,     0,     0,     0,\n",
      "             0,     0,     0,     0,     0,     0,     0,     0],\n",
      "        [13959,  1566,    12,  2379,    10, 10647,  5483,     3, 10647,     1,\n",
      "             0,     0,     0,     0,     0,     0,     0,     0,     0,     0,\n",
      "             0,     0,     0,     0,     0,     0,     0,     0,     0,     0,\n",
      "             0,     0,     0,     0,     0,     0,     0,     0,     0,     0,\n",
      "             0,     0,     0,     0,     0,     0,     0,     0,     0,     0,\n",
      "             0,     0,     0,     0,     0,     0,     0,     0,     0,     0,\n",
      "             0,     0,     0,     0,     0,     0,     0,     0,     0,     0,\n",
      "             0,     0,     0,     0,     0,     0,     0,     0,     0,     0,\n",
      "             0,     0,     0,     0,     0,     0,     0,     0,     0,     0,\n",
      "             0,     0,     0,     0,     0,     0,     0,     0,     0,     0,\n",
      "             0,     0,     0,     0,     0,     0,     0,     0,     0,     0,\n",
      "             0,     0,     0,     0,     0,     0,     0,     0,     0,     0,\n",
      "             0,     0,     0,     0,     0,     0,     0,     0,     0,     0,\n",
      "             0,     0,     0,     0,     0,     0,     0,     0,     0,     0,\n",
      "             0,     0,     0,     0,     0,     0,     0,     0,     0,     0,\n",
      "             0,     0,     0,     0,     0,     0,     0,     0,     0,     0,\n",
      "             0,     0,     0,     0,     0,     0,     0,     0,     0,     0,\n",
      "             0,     0,     0,     0,     0,     0,     0,     0]],\n",
      "       device='cuda:0')\n",
      "output_ids tensor([[    0,  6206,  6667,    27,     1,     0,     0],\n",
      "        [    0,     3, 10647, 22366,     3, 21905,     1]], device='cuda:0')\n",
      "w_logits tensor([[[-24.5020, -10.5669, -13.6983,  ..., -45.9268, -45.9309, -45.8591],\n",
      "         [-27.5597, -11.2587, -13.8269,  ..., -46.8918, -46.7995, -46.7754],\n",
      "         [-31.1532, -20.2189, -19.7448,  ..., -63.6613, -63.3071, -63.5346],\n",
      "         ...,\n",
      "         [-38.0940,  -4.5469, -14.5254,  ..., -50.9426, -51.1081, -50.9983],\n",
      "         [-18.6262,   1.9141,  -6.3556,  ..., -29.4081, -29.4693, -29.5237],\n",
      "         [-19.1137,  -4.8135, -14.0507,  ..., -43.2325, -43.2798, -43.2799]],\n",
      "\n",
      "        [[-19.1922,  -9.0906, -13.7818,  ..., -43.7177, -43.8274, -43.8328],\n",
      "         [-18.7187,  -7.6901, -10.6017,  ..., -35.3571, -35.5288, -35.3750],\n",
      "         [-16.8695,  -9.6675,  -3.0859,  ..., -33.4461, -33.4132, -33.3240],\n",
      "         ...,\n",
      "         [-23.1063,  -3.9290, -10.2979,  ..., -42.4287, -42.4370, -42.3846],\n",
      "         [-35.2324, -17.9783, -11.0128,  ..., -50.4728, -50.4114, -50.5006],\n",
      "         [-32.0972,  -3.3087, -14.4045,  ..., -48.7585, -48.8285, -48.8458]]],\n",
      "       device='cuda:0', grad_fn=<UnsafeViewBackward0>)\n",
      "w_soft_idx tensor([[[ 1.6001],\n",
      "         [-1.9818],\n",
      "         [-4.9818],\n",
      "         [-6.7544],\n",
      "         [-4.5469],\n",
      "         [ 1.9141],\n",
      "         [-0.6640]],\n",
      "\n",
      "        [[-2.5223],\n",
      "         [ 0.1157],\n",
      "         [ 0.7453],\n",
      "         [-3.6682],\n",
      "         [-0.8248],\n",
      "         [-5.1699],\n",
      "         [-3.3087]]], device='cuda:0', grad_fn=<MaxBackward0>)\n"
     ]
    },
    {
     "ename": "RuntimeError",
     "evalue": "One of the differentiated Tensors appears to not have been used in the graph. Set allow_unused=True if this is the desired behavior.",
     "output_type": "error",
     "traceback": [
      "\u001b[1;31m---------------------------------------------------------------------------\u001b[0m",
      "\u001b[1;31mRuntimeError\u001b[0m                              Traceback (most recent call last)",
      "\u001b[1;32m~\\AppData\\Local\\Temp/ipykernel_24536/2628594002.py\u001b[0m in \u001b[0;36m<module>\u001b[1;34m\u001b[0m\n\u001b[1;32m----> 1\u001b[1;33m \u001b[0mmy_train\u001b[0m\u001b[1;33m(\u001b[0m\u001b[0mbegin_epoch\u001b[0m\u001b[1;33m,\u001b[0m \u001b[0mtrain_dataloader\u001b[0m\u001b[1;33m,\u001b[0m \u001b[0mvalid_dataloader\u001b[0m\u001b[1;33m,\u001b[0m \u001b[0mmodel_w\u001b[0m\u001b[1;33m,\u001b[0m \u001b[0mmodel_v\u001b[0m\u001b[1;33m,\u001b[0m  \u001b[0marchitect\u001b[0m\u001b[1;33m,\u001b[0m \u001b[0mA\u001b[0m\u001b[1;33m,\u001b[0m \u001b[0mw_optimizer\u001b[0m\u001b[1;33m,\u001b[0m \u001b[0mv_optimizer\u001b[0m\u001b[1;33m,\u001b[0m \u001b[0mlr\u001b[0m\u001b[1;33m,\u001b[0m\u001b[0mlr\u001b[0m\u001b[1;33m)\u001b[0m\u001b[1;33m\u001b[0m\u001b[1;33m\u001b[0m\u001b[0m\n\u001b[0m\u001b[0;32m      2\u001b[0m \u001b[1;33m\u001b[0m\u001b[0m\n",
      "\u001b[1;32m~\\AppData\\Local\\Temp/ipykernel_24536/202239325.py\u001b[0m in \u001b[0;36mmy_train\u001b[1;34m(epoch, train_dataloader, valid_dataloader, w_model, v_model, architect, A, w_optimizer, v_optimizer, lr_w, lr_v)\u001b[0m\n\u001b[0;32m     29\u001b[0m         \u001b[1;32mif\u001b[0m \u001b[0mbegin_epoch\u001b[0m \u001b[1;33m<=\u001b[0m \u001b[0mepoch\u001b[0m \u001b[1;33m<=\u001b[0m \u001b[0mstop_epoch\u001b[0m\u001b[1;33m:\u001b[0m\u001b[1;33m\u001b[0m\u001b[1;33m\u001b[0m\u001b[0m\n\u001b[0;32m     30\u001b[0m \u001b[1;33m\u001b[0m\u001b[0m\n\u001b[1;32m---> 31\u001b[1;33m             architect.step(input_w,  output_w,input_w_attn, output_w_attn, w_optimizer, input_v, input_v_attn,valid_input_v, valid_input_v_attn, valid_out_v, \n\u001b[0m\u001b[0;32m     32\u001b[0m                 valid_out_v_attn, v_optimizer, attn_idx, lr_w, lr_v)\n\u001b[0;32m     33\u001b[0m         \u001b[1;31m# end the framework training and just train on the classifier task after the stop epoch\u001b[0m\u001b[1;33m\u001b[0m\u001b[1;33m\u001b[0m\u001b[1;33m\u001b[0m\u001b[0m\n",
      "\u001b[1;32mc:\\Users\\kevin\\OneDrive\\桌面\\paper\\mycode\\1.0\\architect.py\u001b[0m in \u001b[0;36mstep\u001b[1;34m(self, w_input, w_target, w_input_attn, w_target_attn, w_optimizer, v_input, v_input_attn, valid_input_v, valid_input_v_attn, valid_out_v, valid_out_v_attn, v_optimizer, attn_idx, eta_w, eta_v)\u001b[0m\n\u001b[0;32m    160\u001b[0m \u001b[1;33m\u001b[0m\u001b[0m\n\u001b[0;32m    161\u001b[0m \u001b[1;33m\u001b[0m\u001b[0m\n\u001b[1;32m--> 162\u001b[1;33m         \u001b[0mimplicit_grads_A\u001b[0m \u001b[1;33m=\u001b[0m \u001b[0mself\u001b[0m\u001b[1;33m.\u001b[0m\u001b[0m_outer_A\u001b[0m\u001b[1;33m(\u001b[0m\u001b[0mvector_s_dash\u001b[0m\u001b[1;33m,\u001b[0m \u001b[0mw_input\u001b[0m\u001b[1;33m,\u001b[0m \u001b[0mw_target\u001b[0m\u001b[1;33m,\u001b[0m \u001b[0mw_input_attn\u001b[0m\u001b[1;33m,\u001b[0m  \u001b[0mw_target_attn\u001b[0m\u001b[1;33m,\u001b[0m \u001b[0mv_input\u001b[0m\u001b[1;33m,\u001b[0m \u001b[0mv_input_attn\u001b[0m\u001b[1;33m,\u001b[0m \u001b[0mattn_idx\u001b[0m\u001b[1;33m,\u001b[0m \u001b[0munrolled_w_model\u001b[0m\u001b[1;33m,\u001b[0m \u001b[0meta_w\u001b[0m\u001b[1;33m,\u001b[0m \u001b[0meta_v\u001b[0m\u001b[1;33m)\u001b[0m\u001b[1;33m\u001b[0m\u001b[1;33m\u001b[0m\u001b[0m\n\u001b[0m\u001b[0;32m    163\u001b[0m \u001b[1;33m\u001b[0m\u001b[0m\n\u001b[0;32m    164\u001b[0m \u001b[1;33m\u001b[0m\u001b[0m\n",
      "\u001b[1;32mc:\\Users\\kevin\\OneDrive\\桌面\\paper\\mycode\\1.0\\architect.py\u001b[0m in \u001b[0;36m_outer_A\u001b[1;34m(self, vector_s_dash, w_input, w_target, w_input_attn, w_target_attn, input_v, input_v_attn, attn_idx, unrolled_w_model, eta_w, eta_v, r)\u001b[0m\n\u001b[0;32m    221\u001b[0m \u001b[1;33m\u001b[0m\u001b[0m\n\u001b[0;32m    222\u001b[0m \u001b[1;33m\u001b[0m\u001b[0m\n\u001b[1;32m--> 223\u001b[1;33m         \u001b[0mvector_dash\u001b[0m \u001b[1;33m=\u001b[0m \u001b[0mtorch\u001b[0m\u001b[1;33m.\u001b[0m\u001b[0mautograd\u001b[0m\u001b[1;33m.\u001b[0m\u001b[0mgrad\u001b[0m\u001b[1;33m(\u001b[0m\u001b[0mloss_aug_p\u001b[0m\u001b[1;33m,\u001b[0m \u001b[0munrolled_w_model\u001b[0m\u001b[1;33m.\u001b[0m\u001b[0mparameters\u001b[0m\u001b[1;33m(\u001b[0m\u001b[1;33m)\u001b[0m\u001b[1;33m,\u001b[0m \u001b[0mretain_graph\u001b[0m \u001b[1;33m=\u001b[0m \u001b[1;32mTrue\u001b[0m\u001b[1;33m)\u001b[0m\u001b[1;33m\u001b[0m\u001b[1;33m\u001b[0m\u001b[0m\n\u001b[0m\u001b[0;32m    224\u001b[0m \u001b[1;33m\u001b[0m\u001b[0m\n\u001b[0;32m    225\u001b[0m         \u001b[0mgrad_part1\u001b[0m \u001b[1;33m=\u001b[0m \u001b[0mself\u001b[0m\u001b[1;33m.\u001b[0m\u001b[0m_hessian_vector_product_A\u001b[0m\u001b[1;33m(\u001b[0m\u001b[0mvector_dash\u001b[0m\u001b[1;33m,\u001b[0m \u001b[0mw_input\u001b[0m\u001b[1;33m,\u001b[0m \u001b[0mw_target\u001b[0m\u001b[1;33m,\u001b[0m \u001b[0mw_input_attn\u001b[0m\u001b[1;33m,\u001b[0m \u001b[0mw_target_attn\u001b[0m\u001b[1;33m,\u001b[0m \u001b[0mattn_idx\u001b[0m\u001b[1;33m)\u001b[0m\u001b[1;33m\u001b[0m\u001b[1;33m\u001b[0m\u001b[0m\n",
      "\u001b[1;32m~\\miniconda3\\envs\\python38\\lib\\site-packages\\torch\\autograd\\__init__.py\u001b[0m in \u001b[0;36mgrad\u001b[1;34m(outputs, inputs, grad_outputs, retain_graph, create_graph, only_inputs, allow_unused)\u001b[0m\n\u001b[0;32m    232\u001b[0m         \u001b[0mretain_graph\u001b[0m \u001b[1;33m=\u001b[0m \u001b[0mcreate_graph\u001b[0m\u001b[1;33m\u001b[0m\u001b[1;33m\u001b[0m\u001b[0m\n\u001b[0;32m    233\u001b[0m \u001b[1;33m\u001b[0m\u001b[0m\n\u001b[1;32m--> 234\u001b[1;33m     return Variable._execution_engine.run_backward(\n\u001b[0m\u001b[0;32m    235\u001b[0m         \u001b[0moutputs\u001b[0m\u001b[1;33m,\u001b[0m \u001b[0mgrad_outputs_\u001b[0m\u001b[1;33m,\u001b[0m \u001b[0mretain_graph\u001b[0m\u001b[1;33m,\u001b[0m \u001b[0mcreate_graph\u001b[0m\u001b[1;33m,\u001b[0m\u001b[1;33m\u001b[0m\u001b[1;33m\u001b[0m\u001b[0m\n\u001b[0;32m    236\u001b[0m         inputs, allow_unused, accumulate_grad=False)\n",
      "\u001b[1;31mRuntimeError\u001b[0m: One of the differentiated Tensors appears to not have been used in the graph. Set allow_unused=True if this is the desired behavior."
     ]
    }
   ],
   "source": [
    "my_train(begin_epoch, train_dataloader, valid_dataloader, model_w, model_v,  architect, A, w_optimizer, v_optimizer, lr,lr)\n",
    "    "
   ]
  },
  {
   "cell_type": "code",
   "execution_count": null,
   "metadata": {},
   "outputs": [],
   "source": [
    "import gc\n",
    "\n",
    "gc.collect()\n",
    "\n",
    "torch.cuda.empty_cache()"
   ]
  },
  {
   "cell_type": "code",
   "execution_count": 21,
   "metadata": {},
   "outputs": [
    {
     "data": {
      "text/plain": [
       "'translate English to French:Annex I</s> <pad> <pad> <pad> <pad> <pad> <pad> <pad> <pad> <pad> <pad> <pad> <pad> <pad> <pad> <pad> <pad> <pad> <pad> <pad> <pad> <pad> <pad> <pad> <pad> <pad> <pad> <pad> <pad> <pad> <pad> <pad> <pad> <pad> <pad> <pad> <pad> <pad> <pad> <pad> <pad> <pad> <pad> <pad> <pad> <pad> <pad> <pad> <pad> <pad> <pad> <pad> <pad> <pad> <pad> <pad> <pad> <pad> <pad> <pad> <pad> <pad> <pad> <pad> <pad> <pad> <pad> <pad> <pad> <pad> <pad> <pad> <pad> <pad> <pad> <pad> <pad> <pad> <pad> <pad> <pad> <pad> <pad> <pad> <pad> <pad> <pad> <pad> <pad> <pad> <pad> <pad> <pad> <pad> <pad> <pad> <pad> <pad> <pad> <pad> <pad> <pad> <pad> <pad> <pad> <pad> <pad> <pad> <pad> <pad> <pad> <pad> <pad> <pad> <pad> <pad> <pad> <pad> <pad> <pad> <pad> <pad> <pad> <pad> <pad> <pad> <pad> <pad> <pad> <pad> <pad> <pad> <pad> <pad> <pad> <pad> <pad> <pad> <pad> <pad> <pad> <pad> <pad> <pad> <pad> <pad> <pad> <pad> <pad> <pad> <pad> <pad> <pad> <pad> <pad> <pad> <pad> <pad> <pad> <pad> <pad> <pad> <pad> <pad> <pad> <pad> <pad> <pad> <pad> <pad>'"
      ]
     },
     "execution_count": 21,
     "metadata": {},
     "output_type": "execute_result"
    }
   ],
   "source": [
    "tokenizer.decode([13959,  1566,    12,  2379,    10, 10647,  5483,     3, 10647,     1])"
   ]
  },
  {
   "cell_type": "code",
   "execution_count": null,
   "metadata": {},
   "outputs": [],
   "source": []
  }
 ],
 "metadata": {
  "interpreter": {
   "hash": "65768f95ed3f1ad80799466926a66640b39a99ef5d94bbece814e59aa067606e"
  },
  "kernelspec": {
   "display_name": "Python 3.8.12 64-bit ('python38': conda)",
   "language": "python",
   "name": "python3"
  },
  "language_info": {
   "codemirror_mode": {
    "name": "ipython",
    "version": 3
   },
   "file_extension": ".py",
   "mimetype": "text/x-python",
   "name": "python",
   "nbconvert_exporter": "python",
   "pygments_lexer": "ipython3",
   "version": "3.8.12"
  },
  "orig_nbformat": 4
 },
 "nbformat": 4,
 "nbformat_minor": 2
}
